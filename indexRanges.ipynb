{
 "cells": [
  {
   "cell_type": "code",
   "execution_count": 38,
   "metadata": {},
   "outputs": [],
   "source": [
    "import pandas as pd\n",
    "import numpy as np\n",
    "import matplotlib.pyplot as plt\n",
    "import seaborn as sns"
   ]
  },
  {
   "cell_type": "code",
   "execution_count": 39,
   "metadata": {},
   "outputs": [],
   "source": [
    "nifty_data = pd.read_csv(\"nifty_data.csv\")\n",
    "banknifty_data = pd.read_csv(\"banknifty_data.csv\")\n",
    "\n",
    "nifty_df = pd.DataFrame(nifty_data)\n",
    "banknifty_df = pd.DataFrame(banknifty_data)"
   ]
  },
  {
   "cell_type": "code",
   "execution_count": 40,
   "metadata": {},
   "outputs": [
    {
     "data": {
      "text/plain": [
       "Index(['Date', 'Open', 'High', 'Low', 'Close', 'Shares Traded',\n",
       "       'Turnover (₹ Cr)'],\n",
       "      dtype='object')"
      ]
     },
     "execution_count": 40,
     "metadata": {},
     "output_type": "execute_result"
    }
   ],
   "source": [
    "nifty_df.columns = nifty_df.columns.str.strip()\n",
    "banknifty_df.columns = banknifty_df.columns.str.strip()\n",
    "# Both data frames got columns with extra spaces so removing them\n",
    "nifty_df.columns"
   ]
  },
  {
   "cell_type": "code",
   "execution_count": 41,
   "metadata": {},
   "outputs": [],
   "source": [
    "# There is one row with null values in shares traded and turnover so replacing with means\n",
    "nifty_df['Shares Traded'] = nifty_df['Shares Traded'].fillna(nifty_df['Shares Traded'].mean())\n",
    "nifty_df['Turnover (₹ Cr)'] = nifty_df['Turnover (₹ Cr)'].fillna(nifty_df['Turnover (₹ Cr)'].mean())\n",
    "\n",
    "banknifty_df['Shares Traded'] = banknifty_df['Shares Traded'].fillna(banknifty_df['Shares Traded'].mean())\n",
    "banknifty_df['Turnover (₹ Cr)'] = banknifty_df['Turnover (₹ Cr)'].fillna(banknifty_df['Turnover (₹ Cr)'].mean())"
   ]
  },
  {
   "cell_type": "code",
   "execution_count": 42,
   "metadata": {},
   "outputs": [
    {
     "data": {
      "text/html": [
       "<div>\n",
       "<style scoped>\n",
       "    .dataframe tbody tr th:only-of-type {\n",
       "        vertical-align: middle;\n",
       "    }\n",
       "\n",
       "    .dataframe tbody tr th {\n",
       "        vertical-align: top;\n",
       "    }\n",
       "\n",
       "    .dataframe thead th {\n",
       "        text-align: right;\n",
       "    }\n",
       "</style>\n",
       "<table border=\"1\" class=\"dataframe\">\n",
       "  <thead>\n",
       "    <tr style=\"text-align: right;\">\n",
       "      <th></th>\n",
       "      <th>Date</th>\n",
       "      <th>Open</th>\n",
       "      <th>High</th>\n",
       "      <th>Low</th>\n",
       "      <th>Close</th>\n",
       "      <th>Shares Traded</th>\n",
       "      <th>Turnover (₹ Cr)</th>\n",
       "    </tr>\n",
       "  </thead>\n",
       "  <tbody>\n",
       "    <tr>\n",
       "      <th>0</th>\n",
       "      <td>2023-10-03</td>\n",
       "      <td>44561.50</td>\n",
       "      <td>44566.30</td>\n",
       "      <td>44243.10</td>\n",
       "      <td>44399.05</td>\n",
       "      <td>192648191.0</td>\n",
       "      <td>8839.94</td>\n",
       "    </tr>\n",
       "    <tr>\n",
       "      <th>1</th>\n",
       "      <td>2023-10-04</td>\n",
       "      <td>44108.15</td>\n",
       "      <td>44161.35</td>\n",
       "      <td>43857.50</td>\n",
       "      <td>43964.05</td>\n",
       "      <td>310337941.0</td>\n",
       "      <td>13684.99</td>\n",
       "    </tr>\n",
       "    <tr>\n",
       "      <th>2</th>\n",
       "      <td>2023-10-05</td>\n",
       "      <td>44181.35</td>\n",
       "      <td>44391.85</td>\n",
       "      <td>44108.30</td>\n",
       "      <td>44213.35</td>\n",
       "      <td>243397808.0</td>\n",
       "      <td>8920.31</td>\n",
       "    </tr>\n",
       "    <tr>\n",
       "      <th>3</th>\n",
       "      <td>2023-10-06</td>\n",
       "      <td>44395.40</td>\n",
       "      <td>44500.70</td>\n",
       "      <td>44242.95</td>\n",
       "      <td>44360.60</td>\n",
       "      <td>157546711.0</td>\n",
       "      <td>5072.44</td>\n",
       "    </tr>\n",
       "    <tr>\n",
       "      <th>4</th>\n",
       "      <td>2023-10-09</td>\n",
       "      <td>44057.80</td>\n",
       "      <td>44113.20</td>\n",
       "      <td>43796.75</td>\n",
       "      <td>43886.50</td>\n",
       "      <td>162329888.0</td>\n",
       "      <td>5048.43</td>\n",
       "    </tr>\n",
       "  </tbody>\n",
       "</table>\n",
       "</div>"
      ],
      "text/plain": [
       "        Date      Open      High       Low     Close  Shares Traded  \\\n",
       "0 2023-10-03  44561.50  44566.30  44243.10  44399.05    192648191.0   \n",
       "1 2023-10-04  44108.15  44161.35  43857.50  43964.05    310337941.0   \n",
       "2 2023-10-05  44181.35  44391.85  44108.30  44213.35    243397808.0   \n",
       "3 2023-10-06  44395.40  44500.70  44242.95  44360.60    157546711.0   \n",
       "4 2023-10-09  44057.80  44113.20  43796.75  43886.50    162329888.0   \n",
       "\n",
       "   Turnover (₹ Cr)  \n",
       "0          8839.94  \n",
       "1         13684.99  \n",
       "2          8920.31  \n",
       "3          5072.44  \n",
       "4          5048.43  "
      ]
     },
     "execution_count": 42,
     "metadata": {},
     "output_type": "execute_result"
    }
   ],
   "source": [
    "# Changing the format of Date column from object to datetime\n",
    "nifty_df['Date'] = pd.to_datetime(nifty_df['Date'], format='mixed')\n",
    "nifty_df.head()\n",
    "\n",
    "banknifty_df['Date'] = pd.to_datetime(banknifty_df['Date'], format='mixed')\n",
    "banknifty_df.head()"
   ]
  },
  {
   "cell_type": "code",
   "execution_count": 43,
   "metadata": {},
   "outputs": [
    {
     "data": {
      "text/html": [
       "<div>\n",
       "<style scoped>\n",
       "    .dataframe tbody tr th:only-of-type {\n",
       "        vertical-align: middle;\n",
       "    }\n",
       "\n",
       "    .dataframe tbody tr th {\n",
       "        vertical-align: top;\n",
       "    }\n",
       "\n",
       "    .dataframe thead th {\n",
       "        text-align: right;\n",
       "    }\n",
       "</style>\n",
       "<table border=\"1\" class=\"dataframe\">\n",
       "  <thead>\n",
       "    <tr style=\"text-align: right;\">\n",
       "      <th></th>\n",
       "      <th>Date</th>\n",
       "      <th>Open</th>\n",
       "      <th>High</th>\n",
       "      <th>Low</th>\n",
       "      <th>Close</th>\n",
       "      <th>Shares Traded</th>\n",
       "      <th>Turnover (₹ Cr)</th>\n",
       "      <th>Day</th>\n",
       "    </tr>\n",
       "  </thead>\n",
       "  <tbody>\n",
       "    <tr>\n",
       "      <th>0</th>\n",
       "      <td>2023-10-03</td>\n",
       "      <td>44561.50</td>\n",
       "      <td>44566.30</td>\n",
       "      <td>44243.10</td>\n",
       "      <td>44399.05</td>\n",
       "      <td>192648191.0</td>\n",
       "      <td>8839.94</td>\n",
       "      <td>Tuesday</td>\n",
       "    </tr>\n",
       "    <tr>\n",
       "      <th>1</th>\n",
       "      <td>2023-10-04</td>\n",
       "      <td>44108.15</td>\n",
       "      <td>44161.35</td>\n",
       "      <td>43857.50</td>\n",
       "      <td>43964.05</td>\n",
       "      <td>310337941.0</td>\n",
       "      <td>13684.99</td>\n",
       "      <td>Wednesday</td>\n",
       "    </tr>\n",
       "    <tr>\n",
       "      <th>2</th>\n",
       "      <td>2023-10-05</td>\n",
       "      <td>44181.35</td>\n",
       "      <td>44391.85</td>\n",
       "      <td>44108.30</td>\n",
       "      <td>44213.35</td>\n",
       "      <td>243397808.0</td>\n",
       "      <td>8920.31</td>\n",
       "      <td>Thursday</td>\n",
       "    </tr>\n",
       "    <tr>\n",
       "      <th>3</th>\n",
       "      <td>2023-10-06</td>\n",
       "      <td>44395.40</td>\n",
       "      <td>44500.70</td>\n",
       "      <td>44242.95</td>\n",
       "      <td>44360.60</td>\n",
       "      <td>157546711.0</td>\n",
       "      <td>5072.44</td>\n",
       "      <td>Friday</td>\n",
       "    </tr>\n",
       "    <tr>\n",
       "      <th>4</th>\n",
       "      <td>2023-10-09</td>\n",
       "      <td>44057.80</td>\n",
       "      <td>44113.20</td>\n",
       "      <td>43796.75</td>\n",
       "      <td>43886.50</td>\n",
       "      <td>162329888.0</td>\n",
       "      <td>5048.43</td>\n",
       "      <td>Monday</td>\n",
       "    </tr>\n",
       "    <tr>\n",
       "      <th>5</th>\n",
       "      <td>2023-10-10</td>\n",
       "      <td>44027.55</td>\n",
       "      <td>44487.25</td>\n",
       "      <td>44004.55</td>\n",
       "      <td>44360.15</td>\n",
       "      <td>175255784.0</td>\n",
       "      <td>7051.30</td>\n",
       "      <td>Tuesday</td>\n",
       "    </tr>\n",
       "    <tr>\n",
       "      <th>6</th>\n",
       "      <td>2023-10-11</td>\n",
       "      <td>44554.90</td>\n",
       "      <td>44710.55</td>\n",
       "      <td>44411.40</td>\n",
       "      <td>44516.90</td>\n",
       "      <td>213743273.0</td>\n",
       "      <td>8163.77</td>\n",
       "      <td>Wednesday</td>\n",
       "    </tr>\n",
       "  </tbody>\n",
       "</table>\n",
       "</div>"
      ],
      "text/plain": [
       "        Date      Open      High       Low     Close  Shares Traded  \\\n",
       "0 2023-10-03  44561.50  44566.30  44243.10  44399.05    192648191.0   \n",
       "1 2023-10-04  44108.15  44161.35  43857.50  43964.05    310337941.0   \n",
       "2 2023-10-05  44181.35  44391.85  44108.30  44213.35    243397808.0   \n",
       "3 2023-10-06  44395.40  44500.70  44242.95  44360.60    157546711.0   \n",
       "4 2023-10-09  44057.80  44113.20  43796.75  43886.50    162329888.0   \n",
       "5 2023-10-10  44027.55  44487.25  44004.55  44360.15    175255784.0   \n",
       "6 2023-10-11  44554.90  44710.55  44411.40  44516.90    213743273.0   \n",
       "\n",
       "   Turnover (₹ Cr)        Day  \n",
       "0          8839.94    Tuesday  \n",
       "1         13684.99  Wednesday  \n",
       "2          8920.31   Thursday  \n",
       "3          5072.44     Friday  \n",
       "4          5048.43     Monday  \n",
       "5          7051.30    Tuesday  \n",
       "6          8163.77  Wednesday  "
      ]
     },
     "execution_count": 43,
     "metadata": {},
     "output_type": "execute_result"
    }
   ],
   "source": [
    "# Creating a day column\n",
    "nifty_df['Day'] = pd.to_datetime(nifty_df['Date']).dt.day_name()\n",
    "\n",
    "banknifty_df['Day'] = pd.to_datetime(banknifty_df['Date']).dt.day_name()\n",
    "banknifty_df.head(7)"
   ]
  },
  {
   "cell_type": "code",
   "execution_count": 44,
   "metadata": {},
   "outputs": [
    {
     "data": {
      "text/html": [
       "<div>\n",
       "<style scoped>\n",
       "    .dataframe tbody tr th:only-of-type {\n",
       "        vertical-align: middle;\n",
       "    }\n",
       "\n",
       "    .dataframe tbody tr th {\n",
       "        vertical-align: top;\n",
       "    }\n",
       "\n",
       "    .dataframe thead th {\n",
       "        text-align: right;\n",
       "    }\n",
       "</style>\n",
       "<table border=\"1\" class=\"dataframe\">\n",
       "  <thead>\n",
       "    <tr style=\"text-align: right;\">\n",
       "      <th></th>\n",
       "      <th>Day</th>\n",
       "      <th>Average Range</th>\n",
       "    </tr>\n",
       "  </thead>\n",
       "  <tbody>\n",
       "    <tr>\n",
       "      <th>0</th>\n",
       "      <td>Friday</td>\n",
       "      <td>562.138776</td>\n",
       "    </tr>\n",
       "    <tr>\n",
       "      <th>1</th>\n",
       "      <td>Monday</td>\n",
       "      <td>560.594444</td>\n",
       "    </tr>\n",
       "    <tr>\n",
       "      <th>2</th>\n",
       "      <td>Thursday</td>\n",
       "      <td>562.394000</td>\n",
       "    </tr>\n",
       "    <tr>\n",
       "      <th>3</th>\n",
       "      <td>Tuesday</td>\n",
       "      <td>623.974000</td>\n",
       "    </tr>\n",
       "    <tr>\n",
       "      <th>4</th>\n",
       "      <td>Wednesday</td>\n",
       "      <td>619.448980</td>\n",
       "    </tr>\n",
       "  </tbody>\n",
       "</table>\n",
       "</div>"
      ],
      "text/plain": [
       "         Day  Average Range\n",
       "0     Friday     562.138776\n",
       "1     Monday     560.594444\n",
       "2   Thursday     562.394000\n",
       "3    Tuesday     623.974000\n",
       "4  Wednesday     619.448980"
      ]
     },
     "execution_count": 44,
     "metadata": {},
     "output_type": "execute_result"
    }
   ],
   "source": [
    "# Creating a separate data frame containing average ranges day-wise\n",
    "nifty_df['Range'] = (nifty_df['High'] - nifty_df['Low']).abs()\n",
    "nifty_df = nifty_df[(nifty_df['Day'] != 'Sunday') & (nifty_df['Day'] != 'Saturday')]\n",
    "banknifty_df['Range'] = (banknifty_df['High'] - banknifty_df['Low']).abs()\n",
    "banknifty_df = banknifty_df[(banknifty_df['Day'] != 'Saturday') & (banknifty_df['Day'] != 'Sunday')]\n",
    "\n",
    "range_nifty = nifty_df.groupby('Day')['Range'].mean().reset_index()\n",
    "range_nifty.columns = ['Day', 'Average Range']\n",
    "range_banknifty = banknifty_df.groupby('Day')['Range'].mean().reset_index()\n",
    "range_banknifty.columns = ['Day', 'Average Range']\n",
    "range_banknifty.head(6)"
   ]
  },
  {
   "cell_type": "code",
   "execution_count": 45,
   "metadata": {},
   "outputs": [],
   "source": [
    "# Sorting the days in correct order\n",
    "day_order = ['Monday', 'Tuesday', 'Wednesday', 'Thursday', 'Friday']\n",
    "\n",
    "range_nifty['Day'] = pd.Categorical(range_nifty['Day'], categories=day_order, ordered=True)\n",
    "range_nifty = range_nifty.sort_values('Day')\n",
    "\n",
    "range_banknifty['Day'] = pd.Categorical(range_banknifty['Day'], categories=day_order, ordered=True)\n",
    "range_banknifty = range_banknifty.sort_values('Day')"
   ]
  },
  {
   "cell_type": "code",
   "execution_count": 46,
   "metadata": {},
   "outputs": [
    {
     "data": {
      "image/png": "[encoded data removed]",
      "text/plain": [
       "<Figure size 1200x600 with 1 Axes>"
      ]
     },
     "metadata": {},
     "output_type": "display_data"
    }
   ],
   "source": [
    "# Plotting the graph for Nifty range\n",
    "plt.figure(figsize=(12,6), facecolor='yellow')\n",
    "plt.axes().set_facecolor('#000000')\n",
    "sns.set_palette('bright')\n",
    "barplot = sns.barplot(data=range_nifty, x='Day', y='Average Range', width=0.45, color='#ffffff')\n",
    "for container in barplot.containers:\n",
    "    barplot.bar_label(container, fmt='%0.2f', color='#ffffff', fontweight='bold')\n",
    "plt.title('Nifty Average Range', fontweight='bold', fontsize=13)\n",
    "plt.xlabel('Day', fontweight='bold', fontsize=11)\n",
    "plt.ylabel('Average Range', fontweight='bold', fontsize=11)\n",
    "plt.show()"
   ]
  },
  {
   "cell_type": "code",
   "execution_count": 47,
   "metadata": {},
   "outputs": [
    {
     "data": {
      "image/png": "[encoded data removed]",
      "text/plain": [
       "<Figure size 1200x600 with 1 Axes>"
      ]
     },
     "metadata": {},
     "output_type": "display_data"
    }
   ],
   "source": [
    "# Plotting the graph for BankNifty range\n",
    "plt.figure(figsize=(12,6), facecolor='cyan')\n",
    "plt.axes().set_facecolor('#000000')\n",
    "sns.set_palette('bright')\n",
    "barplot = sns.barplot(data=range_banknifty, x='Day', y='Average Range', width=0.45, color='#ffffff')\n",
    "for container in barplot.containers:\n",
    "    barplot.bar_label(container, fmt='%0.2f', color='#ffffff', fontweight='bold')\n",
    "plt.title('Bank Nifty Average Range', fontweight='bold', fontsize=13)\n",
    "plt.xlabel('Day', fontweight='bold', fontsize=11)\n",
    "plt.ylabel('Average Range', fontweight='bold', fontsize=11)\n",
    "plt.show()"
   ]
  }
 ],
 "metadata": {
  "kernelspec": {
   "display_name": "Python 3",
   "language": "python",
   "name": "python3"
  },
  "language_info": {
   "codemirror_mode": {
    "name": "ipython",
    "version": 3
   },
   "file_extension": ".py",
   "mimetype": "text/x-python",
   "name": "python",
   "nbconvert_exporter": "python",
   "pygments_lexer": "ipython3",
   "version": "3.12.6"
  }
 },
 "nbformat": 4,
 "nbformat_minor": 2
}
